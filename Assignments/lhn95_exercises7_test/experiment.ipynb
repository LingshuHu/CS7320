{
 "cells": [
  {
   "cell_type": "code",
   "execution_count": 6,
   "metadata": {},
   "outputs": [],
   "source": [
    "import json\n",
    "\n",
    "\n",
    "class User:\n",
    "\n",
    "    def update_user_db(self):\n",
    "        with open('Data/users.json', 'w') as fp:\n",
    "            json.dump(self.users, fp)"
   ]
  },
  {
   "cell_type": "code",
   "execution_count": 18,
   "metadata": {},
   "outputs": [],
   "source": [
    "#import User\n",
    "\n",
    "class Student(User):\n",
    "    def __init__(self, name,users,courses):\n",
    "        self.users = users\n",
    "        self.all_courses = courses\n",
    "        self.name = name\n",
    "        self.courses = self.users[name]['courses']\n",
    "        self.password = self.users[name]['password']\n",
    "\n",
    "    def submit_assignment(self,course,assignment_name,submission,submission_date):\n",
    "        due_date = self.all_courses['comp_sci']['assignments'][assignment_name][\"due_date\"]\n",
    "        submission = {assignment_name: {\n",
    "          \"grade\": 'N/A',\n",
    "          \"submission_date\": submission_date,\n",
    "          \"submission\": submission,\n",
    "            \"ontime\": self.check_ontime(submission_date,due_date)\n",
    "        }}\n",
    "        self.users[self.name]['courses'][course].update(submission)\n",
    "        self.update_user_db()\n",
    "\n",
    "    def check_grades(self,course):\n",
    "        name = self.name\n",
    "        assignments = self.users[name]['courses'][course]\n",
    "        grades = []\n",
    "        for key in assignments:\n",
    "            grades.append([key, assignments[key]['grade']])\n",
    "        return grades\n",
    "\n",
    "    def view_assignments(self,course):\n",
    "        course = self.all_courses['comp_sci']['assignments']\n",
    "        assignments = []\n",
    "        for key in course:\n",
    "            assignments.append([key,course[key]['due_date']])\n",
    "        return assignments\n",
    "\n",
    "    def check_ontime(self,submission_date,due_date):\n",
    "        return True\n",
    "\n"
   ]
  },
  {
   "cell_type": "code",
   "execution_count": 19,
   "metadata": {},
   "outputs": [],
   "source": [
    "\n",
    "#import User\n",
    "\n",
    "class Staff(User):\n",
    "\n",
    "    def update_course_db(self):\n",
    "        with open('Data/courses.json', 'w') as fp:\n",
    "            json.dump(self.all_courses, fp)\n",
    "\n",
    "    def create_assignment(self,assignment_name, due_date, course):\n",
    "        assignment = {\n",
    "            assignment_name: {\n",
    "                'due_date': due_date\n",
    "            }\n",
    "        }\n",
    "        self.all_courses[course]['assignments'].update(assignment)\n",
    "        self.update_course_db()\n",
    "\n",
    "    def change_grade(self,user,course,assignment,grade):\n",
    "        self.users[user]['courses'][course][assignment]['grade'] = 0\n",
    "        self.update_user_db()\n",
    "\n",
    "    def check_grades(self,name,course):\n",
    "        assignments = self.users[name]['courses'][course]\n",
    "        grades = []\n",
    "        for key in assignments:\n",
    "            grades.append([key, assignments[key]['grade']])\n",
    "        return grades\n",
    "\n",
    "\n",
    "\n"
   ]
  },
  {
   "cell_type": "code",
   "execution_count": 20,
   "metadata": {},
   "outputs": [],
   "source": [
    "#import Staff\n",
    "\n",
    "class TA(Staff):\n",
    "    def __init__(self, name,users,courses):\n",
    "        self.users = users\n",
    "        self.all_courses = courses\n",
    "        self.name = name\n",
    "        self.courses = self.users[name]['courses']\n",
    "        self.password = self.users[name]['password']"
   ]
  },
  {
   "cell_type": "code",
   "execution_count": 21,
   "metadata": {},
   "outputs": [],
   "source": [
    "#import Staff\n",
    "\n",
    "\n",
    "class Professor(Staff):\n",
    "    def __init__(self, name,users,courses):\n",
    "        self.users = users\n",
    "        self.all_courses = courses\n",
    "        self.name = name\n",
    "        self.courses = self.users[name]['courses']\n",
    "        self.password = self.users[name]['password']\n",
    "\n",
    "    def add_student(self, name, course):\n",
    "        assignments = self.all_courses[course]['assignments']\n",
    "        for key in assignments:\n",
    "            assignments[key]['grade'] = \"N/A\"\n",
    "            assignments[key]['submission_date'] = \"N/A\"\n",
    "            assignments[key]['submission'] = \"N/A\"\n",
    "            assignments[key]['ontime'] = \"N/A\"\n",
    "            del assignments[key]['due_date']\n",
    "        self.users[self.name]['courses'][course] = assignments\n",
    "        self.update_user_db()\n",
    "\n",
    "    def drop_student(self, name, course):\n",
    "        del self.users[name]['courses'][course]\n",
    "        self.update_user_db()\n"
   ]
  },
  {
   "cell_type": "code",
   "execution_count": 8,
   "metadata": {},
   "outputs": [
    {
     "ename": "AttributeError",
     "evalue": "type object 'User' has no attribute 'User'",
     "output_type": "error",
     "traceback": [
      "\u001b[0;31m---------------------------------------------------------------------------\u001b[0m",
      "\u001b[0;31mAttributeError\u001b[0m                            Traceback (most recent call last)",
      "\u001b[0;32m<ipython-input-8-163e42b18e2a>\u001b[0m in \u001b[0;36m<module>\u001b[0;34m\u001b[0m\n\u001b[0;32m----> 1\u001b[0;31m \u001b[0mprint\u001b[0m\u001b[0;34m(\u001b[0m\u001b[0mUser\u001b[0m\u001b[0;34m.\u001b[0m\u001b[0mUser\u001b[0m\u001b[0;34m)\u001b[0m\u001b[0;34m\u001b[0m\u001b[0;34m\u001b[0m\u001b[0m\n\u001b[0m",
      "\u001b[0;31mAttributeError\u001b[0m: type object 'User' has no attribute 'User'"
     ]
    }
   ],
   "source": [
    "print(User.User)"
   ]
  },
  {
   "cell_type": "code",
   "execution_count": 22,
   "metadata": {},
   "outputs": [],
   "source": [
    "import json\n",
    "import Professor\n",
    "import TA\n",
    "import Student\n",
    "\n",
    "\n",
    "\n",
    "class System():\n",
    "\n",
    "    def __init__(self):\n",
    "        self.load_data()\n",
    "\n",
    "    def load_data(self):\n",
    "        self.users = self.load_user_db()\n",
    "        self.courses = self.load_course_db()\n",
    "\n",
    "    def reload_data(self):\n",
    "        self.load_data()\n",
    "        self.usr.all_courses = self.courses\n",
    "        self.usr.users = self.users\n",
    "\n",
    "    def load_user_db(self):\n",
    "        with open('Data/users.json') as f:\n",
    "            data = json.load(f)\n",
    "        return data\n",
    "\n",
    "    def load_course_db(self):\n",
    "        with open('Data/courses.json') as f:\n",
    "            data = json.load(f)\n",
    "        return data\n",
    "\n",
    "    def login(self,name, password):\n",
    "        if self.check_password(name,password):\n",
    "            role = self.users[name]['role']\n",
    "            if role == 'professor':\n",
    "                self.usr = Professor.Professor(name, self.users, self.courses)\n",
    "            elif role == 'ta':\n",
    "                self.usr = TA.TA(name, self.users, self.courses)\n",
    "            elif role == 'student':\n",
    "                self.usr = Student.Student(name, self.users, self.courses)\n",
    "\n",
    "    def check_password(self, name, passwordEntered):\n",
    "        password = self.users[name]['password']\n",
    "        if passwordEntered == password:\n",
    "            return True\n",
    "        else:\n",
    "            return False\n",
    "\n",
    "\n",
    "\n"
   ]
  },
  {
   "cell_type": "code",
   "execution_count": null,
   "metadata": {},
   "outputs": [],
   "source": [
    "if __name__ == \"__main__\":\n",
    "\n",
    "    # Initializing system object and loading data from \"DB\"\n",
    "    gradeSystem = System()\n",
    "\n",
    "    # Logging in as a TA\n",
    "    gradeSystem.login('cmhbf5', 'bestTA')\n",
    "    # Changing grade of yted91\n",
    "    gradeSystem.usr.change_grade('yted91', 'software_engineering', 'assignment1', 0)\n",
    "    # Updating Data in system\n",
    "    gradeSystem.reload_data()\n",
    "    # Creating a new assignment\n",
    "    gradeSystem.usr.create_assignment('assignment3', '04/01/20', 'cloud_computing')\n",
    "    # Updating Data in system\n",
    "    gradeSystem.reload_data()\n",
    "\n",
    "    # Log in as Professor\n",
    "    gradeSystem.login('goggins', 'augurrox')\n",
    "    # # Add a new student to a course\n",
    "    # gradeSystem.usr.add_student('yted91', 'databases')\n",
    "    # # Updating Data\n",
    "    # gradeSystem.reload_data()\n",
    "    # # Remove a student from a course\n",
    "    # gradeSystem.usr.drop_student('hdjsr7', 'databases')\n",
    "    # Updating Data\n",
    "    gradeSystem.reload_data()\n",
    "\n",
    "    # Log in as a student\n",
    "    gradeSystem.login('hdjsr7', 'pass1234')\n",
    "    # Submit an assignment\n",
    "    gradeSystem.usr.submit_assignment('cloud_computing', 'assignment1','Blahhhhh', '03/01/20')\n",
    "    # Print the grades for software engineering\n",
    "    grades = gradeSystem.usr.check_grades('software_engineering')\n",
    "    print('\\nGrades: ')\n",
    "    print(grades)\n",
    "    # Print the assignmets for databases\n",
    "    assignments = gradeSystem.usr.view_assignments('databases')\n",
    "    print('\\nAssignments: ')\n",
    "    print(assignments)\n"
   ]
  },
  {
   "cell_type": "code",
   "execution_count": 23,
   "metadata": {},
   "outputs": [],
   "source": [
    "gradingSystem = System()\n",
    "gradingSystem.load_data()"
   ]
  },
  {
   "cell_type": "code",
   "execution_count": 24,
   "metadata": {},
   "outputs": [
    {
     "name": "stdout",
     "output_type": "stream",
     "text": [
      "{'akend3': {'courses': {'comp_sci': {'assignment1': {'grade': 99, 'submission_date': '2/1/20', 'submission': 'Blah Blah Blah', 'ontime': True}, 'assignment2': {'grade': 66, 'submission_date': '2/8/20', 'submission': 'Blah2 Blah2 Blah2', 'ontime': True}}, 'databases': {'assignment1': {'grade': 23, 'submission_date': '1/5/20', 'submission': 'Blah Blah Blah', 'ontime': True}, 'assignment2': {'grade': 46, 'submission_date': '2/5/20', 'submission': 'Blah2 Blah2 Blah2', 'ontime': True}}}, 'password': '123454321', 'role': 'student'}, 'hdjsr7': {'courses': {'cloud_computing': {'assignment1': {'grade': 'N/A', 'submission_date': '03/01/20', 'submission': 'Blahhhhh', 'ontime': True}, 'assignment2': {'Grade': 100, 'Submission Data': '2/3/20', 'Submission': 'Blah2 Blah2 Blah2', 'ontime': True}}, 'databases': {'assignment1': {'grade': 100, 'submission_date': '1/5/20', 'submission': 'Blah Blah Blah', 'ontime': True}, 'assignment2': {'grade': 100, 'submission_date': '2/5/20', 'submission': 'Blah2 Blah2 Blah2', 'ontime': False}}, 'software_engineering': {'assignment1': {'grade': 100, 'submission_date': '1/1/20', 'submission': 'Blah Blah Blah', 'ontime': True}, 'assignment2': {'grade': 100, 'submission_date': '2/1/20', 'submission': 'Blah2 Blah2 Blah2', 'ontime': True}}}, 'password': 'pass1234', 'role': 'student'}, 'yted91': {'courses': {'cloud_computing': {'assignment1': {'grade': 3, 'submission_date': '1/7/20', 'submission': 'Blah Blah Blah', 'ontime': False}, 'assignment2': {'Grade': 5, 'Submission Data': '2/7/20', 'Submission': 'Blah2 Blah2 Blah2', 'ontime': False}}, 'software_engineering': {'assignment1': {'grade': 0, 'submission_date': '1/5/20', 'submission': 'Blah Blah Blah', 'ontime': False}, 'assignment2': {'grade': 22, 'submission_date': '2/5/20', 'submission': 'Blah2 Blah2 Blah2', 'ontime': False}}}, 'password': 'imoutofpasswordnames', 'role': 'student'}, 'goggins': {'courses': ['databases', 'software_engineering'], 'password': 'augurrox', 'role': 'professor'}, 'saab': {'courses': ['comp_sci'], 'password': 'boomr345', 'role': 'professor'}, 'calyam': {'courses': ['cloud_computing'], 'password': '#yeet', 'role': 'professor'}, 'cmhbf5': {'courses': ['cloud_computing', 'software_engineering'], 'password': 'bestTA', 'role': 'ta'}}\n"
     ]
    }
   ],
   "source": [
    "print(gradingSystem.users)"
   ]
  },
  {
   "cell_type": "code",
   "execution_count": 62,
   "metadata": {},
   "outputs": [],
   "source": [
    "gradingSystem.login('akend3', '123454321')"
   ]
  },
  {
   "cell_type": "code",
   "execution_count": 36,
   "metadata": {},
   "outputs": [
    {
     "name": "stdout",
     "output_type": "stream",
     "text": [
      "akend3\n"
     ]
    }
   ],
   "source": [
    "print(gradingSystem.usr.name)"
   ]
  },
  {
   "cell_type": "code",
   "execution_count": 37,
   "metadata": {},
   "outputs": [
    {
     "data": {
      "text/plain": [
       "Student.Student"
      ]
     },
     "execution_count": 37,
     "metadata": {},
     "output_type": "execute_result"
    }
   ],
   "source": [
    "type(gradingSystem.usr)"
   ]
  },
  {
   "cell_type": "code",
   "execution_count": 39,
   "metadata": {},
   "outputs": [
    {
     "data": {
      "text/plain": [
       "True"
      ]
     },
     "execution_count": 39,
     "metadata": {},
     "output_type": "execute_result"
    }
   ],
   "source": [
    "isinstance(gradingSystem.usr, Student.Student)"
   ]
  },
  {
   "cell_type": "code",
   "execution_count": 41,
   "metadata": {},
   "outputs": [],
   "source": [
    "assignments = gradingSystem.courses['cloud_computing']['assignments']"
   ]
  },
  {
   "cell_type": "code",
   "execution_count": 42,
   "metadata": {},
   "outputs": [
    {
     "data": {
      "text/plain": [
       "3"
      ]
     },
     "execution_count": 42,
     "metadata": {},
     "output_type": "execute_result"
    }
   ],
   "source": [
    "len(assignments)"
   ]
  },
  {
   "cell_type": "code",
   "execution_count": 43,
   "metadata": {},
   "outputs": [
    {
     "ename": "KeyError",
     "evalue": "0",
     "output_type": "error",
     "traceback": [
      "\u001b[0;31m---------------------------------------------------------------------------\u001b[0m",
      "\u001b[0;31mKeyError\u001b[0m                                  Traceback (most recent call last)",
      "\u001b[0;32m<ipython-input-43-4eb525d8bc57>\u001b[0m in \u001b[0;36m<module>\u001b[0;34m\u001b[0m\n\u001b[1;32m      1\u001b[0m \u001b[0;32mfor\u001b[0m \u001b[0mkey\u001b[0m \u001b[0;32min\u001b[0m \u001b[0mrange\u001b[0m\u001b[0;34m(\u001b[0m\u001b[0mlen\u001b[0m\u001b[0;34m(\u001b[0m\u001b[0massignments\u001b[0m\u001b[0;34m)\u001b[0m\u001b[0;34m)\u001b[0m\u001b[0;34m:\u001b[0m\u001b[0;34m\u001b[0m\u001b[0;34m\u001b[0m\u001b[0m\n\u001b[0;32m----> 2\u001b[0;31m     \u001b[0mprint\u001b[0m\u001b[0;34m(\u001b[0m\u001b[0massignments\u001b[0m\u001b[0;34m[\u001b[0m\u001b[0mkey\u001b[0m\u001b[0;34m]\u001b[0m\u001b[0;34m)\u001b[0m\u001b[0;34m\u001b[0m\u001b[0;34m\u001b[0m\u001b[0m\n\u001b[0m",
      "\u001b[0;31mKeyError\u001b[0m: 0"
     ]
    }
   ],
   "source": [
    "for key in range(len(assignments)):\n",
    "    print(assignments[key])"
   ]
  },
  {
   "cell_type": "code",
   "execution_count": 46,
   "metadata": {},
   "outputs": [
    {
     "name": "stdout",
     "output_type": "stream",
     "text": [
      "assignment1\n",
      "{'due_date': '1/3/20'}\n",
      "{'grade': 'N/A', 'submission_date': 'N/A', 'submission': 'N/A', 'ontime': 'N/A'}\n",
      "assignment2\n",
      "{'due_date': '2/3/20'}\n",
      "{'grade': 'N/A', 'submission_date': 'N/A', 'submission': 'N/A', 'ontime': 'N/A'}\n",
      "assignment3\n",
      "{'due_date': '04/01/20'}\n",
      "{'grade': 'N/A', 'submission_date': 'N/A', 'submission': 'N/A', 'ontime': 'N/A'}\n"
     ]
    }
   ],
   "source": [
    "for key in assignments:\n",
    "    print(key)\n",
    "    print(assignments[key])\n",
    "    assignments[key]['grade'] = \"N/A\"\n",
    "    assignments[key]['submission_date'] = \"N/A\"\n",
    "    assignments[key]['submission'] = \"N/A\"\n",
    "    assignments[key]['ontime'] = \"N/A\"\n",
    "    del assignments[key]['due_date']\n",
    "    print(assignments[key])"
   ]
  },
  {
   "cell_type": "code",
   "execution_count": 47,
   "metadata": {},
   "outputs": [
    {
     "ename": "TypeError",
     "evalue": "list indices must be integers or slices, not str",
     "output_type": "error",
     "traceback": [
      "\u001b[0;31m---------------------------------------------------------------------------\u001b[0m",
      "\u001b[0;31mTypeError\u001b[0m                                 Traceback (most recent call last)",
      "\u001b[0;32m<ipython-input-47-d0517b99307f>\u001b[0m in \u001b[0;36m<module>\u001b[0;34m\u001b[0m\n\u001b[0;32m----> 1\u001b[0;31m \u001b[0mgradingSystem\u001b[0m\u001b[0;34m.\u001b[0m\u001b[0musers\u001b[0m\u001b[0;34m[\u001b[0m\u001b[0;34m'saab'\u001b[0m\u001b[0;34m]\u001b[0m\u001b[0;34m[\u001b[0m\u001b[0;34m'courses'\u001b[0m\u001b[0;34m]\u001b[0m\u001b[0;34m[\u001b[0m\u001b[0;34m'cloud_computing'\u001b[0m\u001b[0;34m]\u001b[0m \u001b[0;34m=\u001b[0m \u001b[0massignments\u001b[0m\u001b[0;34m\u001b[0m\u001b[0;34m\u001b[0m\u001b[0m\n\u001b[0m",
      "\u001b[0;31mTypeError\u001b[0m: list indices must be integers or slices, not str"
     ]
    }
   ],
   "source": [
    "gradingSystem.users['saab']['courses']['cloud_computing'] = assignments"
   ]
  },
  {
   "cell_type": "code",
   "execution_count": 48,
   "metadata": {},
   "outputs": [
    {
     "data": {
      "text/plain": [
       "['comp_sci']"
      ]
     },
     "execution_count": 48,
     "metadata": {},
     "output_type": "execute_result"
    }
   ],
   "source": [
    "gradingSystem.users['saab']['courses']"
   ]
  },
  {
   "cell_type": "code",
   "execution_count": 59,
   "metadata": {},
   "outputs": [],
   "source": [
    "gradingSystem.users['lhn95'] = {'courses': {'cloud_computing': assignments}}\n",
    "#gradingSystem.users['lhn95']['courses'] = {'cloud_computing': assignments}"
   ]
  },
  {
   "cell_type": "code",
   "execution_count": 60,
   "metadata": {},
   "outputs": [
    {
     "data": {
      "text/plain": [
       "{'courses': {'cloud_computing': {'assignment1': {'grade': 'N/A',\n",
       "    'submission_date': 'N/A',\n",
       "    'submission': 'N/A',\n",
       "    'ontime': 'N/A'},\n",
       "   'assignment2': {'grade': 'N/A',\n",
       "    'submission_date': 'N/A',\n",
       "    'submission': 'N/A',\n",
       "    'ontime': 'N/A'},\n",
       "   'assignment3': {'grade': 'N/A',\n",
       "    'submission_date': 'N/A',\n",
       "    'submission': 'N/A',\n",
       "    'ontime': 'N/A'}}}}"
      ]
     },
     "execution_count": 60,
     "metadata": {},
     "output_type": "execute_result"
    }
   ],
   "source": [
    "gradingSystem.users['lhn95'] "
   ]
  },
  {
   "cell_type": "code",
   "execution_count": 65,
   "metadata": {},
   "outputs": [
    {
     "data": {
      "text/plain": [
       "[['assignment1', 23], ['assignment2', 46]]"
      ]
     },
     "execution_count": 65,
     "metadata": {},
     "output_type": "execute_result"
    }
   ],
   "source": [
    "gradingSystem.usr.check_grades('databases')"
   ]
  },
  {
   "cell_type": "code",
   "execution_count": 72,
   "metadata": {},
   "outputs": [],
   "source": [
    "assign1 = gradingSystem.usr.view_assignments('databases')"
   ]
  },
  {
   "cell_type": "code",
   "execution_count": 73,
   "metadata": {},
   "outputs": [
    {
     "data": {
      "text/plain": [
       "False"
      ]
     },
     "execution_count": 73,
     "metadata": {},
     "output_type": "execute_result"
    }
   ],
   "source": [
    "assign1 != [['assignment1', '2/2/20'], ['assignment2', '2/10/20']]"
   ]
  },
  {
   "cell_type": "code",
   "execution_count": 69,
   "metadata": {},
   "outputs": [],
   "source": [
    "true_assignments = []\n",
    "assign = gradingSystem.courses['databases']['assignments']\n",
    "for key in assign:\n",
    "    true_assignments.append([key, assign[key]['due_date']])"
   ]
  },
  {
   "cell_type": "code",
   "execution_count": 70,
   "metadata": {},
   "outputs": [
    {
     "data": {
      "text/plain": [
       "[['assignment1', '1/6/20'], ['assignment2', '2/6/20']]"
      ]
     },
     "execution_count": 70,
     "metadata": {},
     "output_type": "execute_result"
    }
   ],
   "source": [
    "true_assignments"
   ]
  }
 ],
 "metadata": {
  "kernelspec": {
   "display_name": "Python 3",
   "language": "python",
   "name": "python3"
  },
  "language_info": {
   "codemirror_mode": {
    "name": "ipython",
    "version": 3
   },
   "file_extension": ".py",
   "mimetype": "text/x-python",
   "name": "python",
   "nbconvert_exporter": "python",
   "pygments_lexer": "ipython3",
   "version": "3.7.5"
  }
 },
 "nbformat": 4,
 "nbformat_minor": 2
}
